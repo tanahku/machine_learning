{
  "nbformat": 4,
  "nbformat_minor": 0,
  "metadata": {
    "colab": {
      "provenance": [],
      "gpuType": "T4"
    },
    "kernelspec": {
      "name": "python3",
      "display_name": "Python 3"
    },
    "language_info": {
      "name": "python"
    },
    "accelerator": "GPU"
  },
  "cells": [
    {
      "cell_type": "code",
      "execution_count": null,
      "metadata": {
        "colab": {
          "base_uri": "https://localhost:8080/",
          "height": 17
        },
        "id": "eFh98jon3rNn",
        "outputId": "17311554-0035-4aae-8b7d-87f065353c0f"
      },
      "outputs": [
        {
          "output_type": "display_data",
          "data": {
            "text/plain": [
              "<IPython.core.display.Javascript object>"
            ],
            "application/javascript": [
              "\n",
              "    async function download(id, filename, size) {\n",
              "      if (!google.colab.kernel.accessAllowed) {\n",
              "        return;\n",
              "      }\n",
              "      const div = document.createElement('div');\n",
              "      const label = document.createElement('label');\n",
              "      label.textContent = `Downloading \"${filename}\": `;\n",
              "      div.appendChild(label);\n",
              "      const progress = document.createElement('progress');\n",
              "      progress.max = size;\n",
              "      div.appendChild(progress);\n",
              "      document.body.appendChild(div);\n",
              "\n",
              "      const buffers = [];\n",
              "      let downloaded = 0;\n",
              "\n",
              "      const channel = await google.colab.kernel.comms.open(id);\n",
              "      // Send a message to notify the kernel that we're ready.\n",
              "      channel.send({})\n",
              "\n",
              "      for await (const message of channel.messages) {\n",
              "        // Send a message to notify the kernel that we're ready.\n",
              "        channel.send({})\n",
              "        if (message.buffers) {\n",
              "          for (const buffer of message.buffers) {\n",
              "            buffers.push(buffer);\n",
              "            downloaded += buffer.byteLength;\n",
              "            progress.value = downloaded;\n",
              "          }\n",
              "        }\n",
              "      }\n",
              "      const blob = new Blob(buffers, {type: 'application/binary'});\n",
              "      const a = document.createElement('a');\n",
              "      a.href = window.URL.createObjectURL(blob);\n",
              "      a.download = filename;\n",
              "      div.appendChild(a);\n",
              "      a.click();\n",
              "      div.remove();\n",
              "    }\n",
              "  "
            ]
          },
          "metadata": {}
        },
        {
          "output_type": "display_data",
          "data": {
            "text/plain": [
              "<IPython.core.display.Javascript object>"
            ],
            "application/javascript": [
              "download(\"download_c04487e1-ee36-49df-9054-f76dcc7e5aae\", \"lite_mode.tflite\", 4803376)"
            ]
          },
          "metadata": {}
        },
        {
          "output_type": "display_data",
          "data": {
            "text/plain": [
              "<IPython.core.display.Javascript object>"
            ],
            "application/javascript": [
              "\n",
              "    async function download(id, filename, size) {\n",
              "      if (!google.colab.kernel.accessAllowed) {\n",
              "        return;\n",
              "      }\n",
              "      const div = document.createElement('div');\n",
              "      const label = document.createElement('label');\n",
              "      label.textContent = `Downloading \"${filename}\": `;\n",
              "      div.appendChild(label);\n",
              "      const progress = document.createElement('progress');\n",
              "      progress.max = size;\n",
              "      div.appendChild(progress);\n",
              "      document.body.appendChild(div);\n",
              "\n",
              "      const buffers = [];\n",
              "      let downloaded = 0;\n",
              "\n",
              "      const channel = await google.colab.kernel.comms.open(id);\n",
              "      // Send a message to notify the kernel that we're ready.\n",
              "      channel.send({})\n",
              "\n",
              "      for await (const message of channel.messages) {\n",
              "        // Send a message to notify the kernel that we're ready.\n",
              "        channel.send({})\n",
              "        if (message.buffers) {\n",
              "          for (const buffer of message.buffers) {\n",
              "            buffers.push(buffer);\n",
              "            downloaded += buffer.byteLength;\n",
              "            progress.value = downloaded;\n",
              "          }\n",
              "        }\n",
              "      }\n",
              "      const blob = new Blob(buffers, {type: 'application/binary'});\n",
              "      const a = document.createElement('a');\n",
              "      a.href = window.URL.createObjectURL(blob);\n",
              "      a.download = filename;\n",
              "      div.appendChild(a);\n",
              "      a.click();\n",
              "      div.remove();\n",
              "    }\n",
              "  "
            ]
          },
          "metadata": {}
        },
        {
          "output_type": "display_data",
          "data": {
            "text/plain": [
              "<IPython.core.display.Javascript object>"
            ],
            "application/javascript": [
              "download(\"download_923821e4-0569-43d5-a0d5-2e1ac5b9ad82\", \"lite_mode.tflite\", 4803376)"
            ]
          },
          "metadata": {}
        }
      ],
      "source": [
        "import tensorflow as tf\n",
        "from keras.models import load_model\n",
        "from google.colab import files\n",
        "\n",
        "files.download(\"lite_mode.tflite\")\n",
        "\n",
        "\n",
        "model = load_model('/content/drive/MyDrive/Capstone 2023/deploy_model/model.h5')\n",
        "\n",
        "converter = tf.lite.TFLiteConverter.from_keras_model(model)\n",
        "\n",
        "converter.optimizations = [tf.lite.Optimize.DEFAULT]\n",
        "\n",
        "lite_model = converter.convert()\n",
        "\n",
        "with open(\"lite_mode.tflite\", \"wb\") as f:\n",
        "  f.write(lite_model)\n",
        "\n",
        "files.download(\"lite_mode.tflite\")"
      ]
    },
    {
      "cell_type": "code",
      "source": [
        "import tensorflow as tf\n",
        "\n",
        "# Load the TensorFlow Lite model\n",
        "interpreter = tf.lite.Interpreter(model_path=\"lite_mode.tflite\")\n",
        "interpreter.allocate_tensors()\n",
        "\n",
        "# Get input and output details\n",
        "input_details = interpreter.get_input_details()\n",
        "output_details = interpreter.get_output_details()\n",
        "\n",
        "# Print model input and output details\n",
        "print(\"Input details:\", input_details)\n",
        "print(\"Output details:\", output_details)\n",
        "\n",
        "# Get quantization details if applicable\n",
        "quantization_details = interpreter.get_tensor_details()\n",
        "print(\"Quantization details:\", quantization_details)\n"
      ],
      "metadata": {
        "colab": {
          "base_uri": "https://localhost:8080/"
        },
        "id": "DJIVX7XK-AGO",
        "outputId": "a4e3b21a-ce0b-4480-e068-dc2553075627"
      },
      "execution_count": null,
      "outputs": [
        {
          "output_type": "stream",
          "name": "stdout",
          "text": [
            "Input details: [{'name': 'serving_default_conv2d_input:0', 'index': 0, 'shape': array([  1, 150, 150,   3], dtype=int32), 'shape_signature': array([ -1, 150, 150,   3], dtype=int32), 'dtype': <class 'numpy.float32'>, 'quantization': (0.0, 0), 'quantization_parameters': {'scales': array([], dtype=float32), 'zero_points': array([], dtype=int32), 'quantized_dimension': 0}, 'sparsity_parameters': {}}]\n",
            "Output details: [{'name': 'StatefulPartitionedCall:0', 'index': 24, 'shape': array([1, 6], dtype=int32), 'shape_signature': array([-1,  6], dtype=int32), 'dtype': <class 'numpy.float32'>, 'quantization': (0.0, 0), 'quantization_parameters': {'scales': array([], dtype=float32), 'zero_points': array([], dtype=int32), 'quantized_dimension': 0}, 'sparsity_parameters': {}}]\n",
            "Quantization details: [{'name': 'serving_default_conv2d_input:0', 'index': 0, 'shape': array([  1, 150, 150,   3], dtype=int32), 'shape_signature': array([ -1, 150, 150,   3], dtype=int32), 'dtype': <class 'numpy.float32'>, 'quantization': (0.0, 0), 'quantization_parameters': {'scales': array([], dtype=float32), 'zero_points': array([], dtype=int32), 'quantized_dimension': 0}, 'sparsity_parameters': {}}, {'name': 'sequential/dense_2/MatMul', 'index': 1, 'shape': array([  6, 128], dtype=int32), 'shape_signature': array([  6, 128], dtype=int32), 'dtype': <class 'numpy.float32'>, 'quantization': (0.0, 0), 'quantization_parameters': {'scales': array([], dtype=float32), 'zero_points': array([], dtype=int32), 'quantized_dimension': 0}, 'sparsity_parameters': {}}, {'name': 'sequential/flatten/Const', 'index': 2, 'shape': array([2], dtype=int32), 'shape_signature': array([2], dtype=int32), 'dtype': <class 'numpy.int32'>, 'quantization': (0.0, 0), 'quantization_parameters': {'scales': array([], dtype=float32), 'zero_points': array([], dtype=int32), 'quantized_dimension': 0}, 'sparsity_parameters': {}}, {'name': 'sequential/dense_1/BiasAdd/ReadVariableOp', 'index': 3, 'shape': array([128], dtype=int32), 'shape_signature': array([128], dtype=int32), 'dtype': <class 'numpy.float32'>, 'quantization': (0.0, 0), 'quantization_parameters': {'scales': array([], dtype=float32), 'zero_points': array([], dtype=int32), 'quantized_dimension': 0}, 'sparsity_parameters': {}}, {'name': 'sequential/dense_2/BiasAdd/ReadVariableOp', 'index': 4, 'shape': array([6], dtype=int32), 'shape_signature': array([6], dtype=int32), 'dtype': <class 'numpy.float32'>, 'quantization': (0.0, 0), 'quantization_parameters': {'scales': array([], dtype=float32), 'zero_points': array([], dtype=int32), 'quantized_dimension': 0}, 'sparsity_parameters': {}}, {'name': 'sequential/dense/BiasAdd/ReadVariableOp', 'index': 5, 'shape': array([256], dtype=int32), 'shape_signature': array([256], dtype=int32), 'dtype': <class 'numpy.float32'>, 'quantization': (0.0, 0), 'quantization_parameters': {'scales': array([], dtype=float32), 'zero_points': array([], dtype=int32), 'quantized_dimension': 0}, 'sparsity_parameters': {}}, {'name': 'sequential/conv2d/BiasAdd/ReadVariableOp', 'index': 6, 'shape': array([16], dtype=int32), 'shape_signature': array([16], dtype=int32), 'dtype': <class 'numpy.float32'>, 'quantization': (0.0, 0), 'quantization_parameters': {'scales': array([], dtype=float32), 'zero_points': array([], dtype=int32), 'quantized_dimension': 0}, 'sparsity_parameters': {}}, {'name': 'sequential/conv2d_1/BiasAdd/ReadVariableOp', 'index': 7, 'shape': array([32], dtype=int32), 'shape_signature': array([32], dtype=int32), 'dtype': <class 'numpy.float32'>, 'quantization': (0.0, 0), 'quantization_parameters': {'scales': array([], dtype=float32), 'zero_points': array([], dtype=int32), 'quantized_dimension': 0}, 'sparsity_parameters': {}}, {'name': 'sequential/conv2d_2/BiasAdd/ReadVariableOp', 'index': 8, 'shape': array([64], dtype=int32), 'shape_signature': array([64], dtype=int32), 'dtype': <class 'numpy.float32'>, 'quantization': (0.0, 0), 'quantization_parameters': {'scales': array([], dtype=float32), 'zero_points': array([], dtype=int32), 'quantized_dimension': 0}, 'sparsity_parameters': {}}, {'name': 'sequential/conv2d/Conv2D', 'index': 9, 'shape': array([16,  3,  3,  3], dtype=int32), 'shape_signature': array([16,  3,  3,  3], dtype=int32), 'dtype': <class 'numpy.float32'>, 'quantization': (0.0, 0), 'quantization_parameters': {'scales': array([], dtype=float32), 'zero_points': array([], dtype=int32), 'quantized_dimension': 0}, 'sparsity_parameters': {}}, {'name': 'sequential/conv2d_1/Conv2D', 'index': 10, 'shape': array([32,  3,  3, 16], dtype=int32), 'shape_signature': array([32,  3,  3, 16], dtype=int32), 'dtype': <class 'numpy.int8'>, 'quantization': (0.0, 0), 'quantization_parameters': {'scales': array([0.00177606, 0.00139789, 0.00147626, 0.00196086, 0.00134957,\n",
            "       0.00132639, 0.00143024, 0.00160297, 0.00165186, 0.00125292,\n",
            "       0.00125072, 0.00191654, 0.0016281 , 0.00151467, 0.00186347,\n",
            "       0.00155445, 0.00225394, 0.00150245, 0.00129492, 0.00122153,\n",
            "       0.00152412, 0.00145813, 0.00119041, 0.00134489, 0.0013491 ,\n",
            "       0.0016504 , 0.0013977 , 0.00140535, 0.00202853, 0.00221319,\n",
            "       0.00137864, 0.00177393], dtype=float32), 'zero_points': array([0, 0, 0, 0, 0, 0, 0, 0, 0, 0, 0, 0, 0, 0, 0, 0, 0, 0, 0, 0, 0, 0,\n",
            "       0, 0, 0, 0, 0, 0, 0, 0, 0, 0], dtype=int32), 'quantized_dimension': 0}, 'sparsity_parameters': {}}, {'name': 'sequential/conv2d_2/Conv2D', 'index': 11, 'shape': array([64,  3,  3, 32], dtype=int32), 'shape_signature': array([64,  3,  3, 32], dtype=int32), 'dtype': <class 'numpy.int8'>, 'quantization': (0.0, 0), 'quantization_parameters': {'scales': array([0.00140315, 0.00194429, 0.00145666, 0.00174182, 0.00174147,\n",
            "       0.00121494, 0.00126427, 0.00124286, 0.0025808 , 0.00114961,\n",
            "       0.00103728, 0.00157145, 0.00155622, 0.00144868, 0.00233549,\n",
            "       0.00109673, 0.00193884, 0.00154394, 0.00138625, 0.00134315,\n",
            "       0.00124876, 0.00109081, 0.00169288, 0.00118013, 0.00182643,\n",
            "       0.00148493, 0.00199674, 0.00192033, 0.00133501, 0.00134326,\n",
            "       0.0011185 , 0.00115366, 0.0014516 , 0.00176149, 0.00128683,\n",
            "       0.00153244, 0.00171571, 0.00110652, 0.00233022, 0.00144558,\n",
            "       0.00228658, 0.00212669, 0.00143168, 0.00112658, 0.00128555,\n",
            "       0.00120092, 0.00122006, 0.00110706, 0.00141406, 0.00164713,\n",
            "       0.00117733, 0.00196477, 0.00095192, 0.00118684, 0.00132614,\n",
            "       0.001641  , 0.0014606 , 0.00101081, 0.0015055 , 0.00151598,\n",
            "       0.00248819, 0.00189446, 0.00089889, 0.00120016], dtype=float32), 'zero_points': array([0, 0, 0, 0, 0, 0, 0, 0, 0, 0, 0, 0, 0, 0, 0, 0, 0, 0, 0, 0, 0, 0,\n",
            "       0, 0, 0, 0, 0, 0, 0, 0, 0, 0, 0, 0, 0, 0, 0, 0, 0, 0, 0, 0, 0, 0,\n",
            "       0, 0, 0, 0, 0, 0, 0, 0, 0, 0, 0, 0, 0, 0, 0, 0, 0, 0, 0, 0],\n",
            "      dtype=int32), 'quantized_dimension': 0}, 'sparsity_parameters': {}}, {'name': 'sequential/dense/MatMul', 'index': 12, 'shape': array([  256, 18496], dtype=int32), 'shape_signature': array([  256, 18496], dtype=int32), 'dtype': <class 'numpy.int8'>, 'quantization': (0.0008996558608487248, 0), 'quantization_parameters': {'scales': array([0.00089966], dtype=float32), 'zero_points': array([0], dtype=int32), 'quantized_dimension': 0}, 'sparsity_parameters': {}}, {'name': 'sequential/dense_1/MatMul', 'index': 13, 'shape': array([128, 256], dtype=int32), 'shape_signature': array([128, 256], dtype=int32), 'dtype': <class 'numpy.int8'>, 'quantization': (0.0014775701565667987, 0), 'quantization_parameters': {'scales': array([0.00147757], dtype=float32), 'zero_points': array([0], dtype=int32), 'quantized_dimension': 0}, 'sparsity_parameters': {}}, {'name': 'sequential/conv2d/Relu;sequential/conv2d/BiasAdd;sequential/conv2d/Conv2D;sequential/conv2d/BiasAdd/ReadVariableOp', 'index': 14, 'shape': array([  1, 148, 148,  16], dtype=int32), 'shape_signature': array([ -1, 148, 148,  16], dtype=int32), 'dtype': <class 'numpy.float32'>, 'quantization': (0.0, 0), 'quantization_parameters': {'scales': array([], dtype=float32), 'zero_points': array([], dtype=int32), 'quantized_dimension': 0}, 'sparsity_parameters': {}}, {'name': 'sequential/max_pooling2d/MaxPool', 'index': 15, 'shape': array([ 1, 74, 74, 16], dtype=int32), 'shape_signature': array([-1, 74, 74, 16], dtype=int32), 'dtype': <class 'numpy.float32'>, 'quantization': (0.0, 0), 'quantization_parameters': {'scales': array([], dtype=float32), 'zero_points': array([], dtype=int32), 'quantized_dimension': 0}, 'sparsity_parameters': {}}, {'name': 'sequential/conv2d_1/Relu;sequential/conv2d_1/BiasAdd;sequential/conv2d_1/Conv2D;sequential/conv2d_1/BiasAdd/ReadVariableOp', 'index': 16, 'shape': array([ 1, 72, 72, 32], dtype=int32), 'shape_signature': array([-1, 72, 72, 32], dtype=int32), 'dtype': <class 'numpy.float32'>, 'quantization': (0.0, 0), 'quantization_parameters': {'scales': array([], dtype=float32), 'zero_points': array([], dtype=int32), 'quantized_dimension': 0}, 'sparsity_parameters': {}}, {'name': 'sequential/max_pooling2d_1/MaxPool', 'index': 17, 'shape': array([ 1, 36, 36, 32], dtype=int32), 'shape_signature': array([-1, 36, 36, 32], dtype=int32), 'dtype': <class 'numpy.float32'>, 'quantization': (0.0, 0), 'quantization_parameters': {'scales': array([], dtype=float32), 'zero_points': array([], dtype=int32), 'quantized_dimension': 0}, 'sparsity_parameters': {}}, {'name': 'sequential/conv2d_2/Relu;sequential/conv2d_2/BiasAdd;sequential/conv2d_2/Conv2D;sequential/conv2d_2/BiasAdd/ReadVariableOp', 'index': 18, 'shape': array([ 1, 34, 34, 64], dtype=int32), 'shape_signature': array([-1, 34, 34, 64], dtype=int32), 'dtype': <class 'numpy.float32'>, 'quantization': (0.0, 0), 'quantization_parameters': {'scales': array([], dtype=float32), 'zero_points': array([], dtype=int32), 'quantized_dimension': 0}, 'sparsity_parameters': {}}, {'name': 'sequential/max_pooling2d_2/MaxPool', 'index': 19, 'shape': array([ 1, 17, 17, 64], dtype=int32), 'shape_signature': array([-1, 17, 17, 64], dtype=int32), 'dtype': <class 'numpy.float32'>, 'quantization': (0.0, 0), 'quantization_parameters': {'scales': array([], dtype=float32), 'zero_points': array([], dtype=int32), 'quantized_dimension': 0}, 'sparsity_parameters': {}}, {'name': 'sequential/flatten/Reshape', 'index': 20, 'shape': array([    1, 18496], dtype=int32), 'shape_signature': array([   -1, 18496], dtype=int32), 'dtype': <class 'numpy.float32'>, 'quantization': (0.0, 0), 'quantization_parameters': {'scales': array([], dtype=float32), 'zero_points': array([], dtype=int32), 'quantized_dimension': 0}, 'sparsity_parameters': {}}, {'name': 'sequential/dense/MatMul;sequential/dense/Relu;sequential/dense/BiasAdd', 'index': 21, 'shape': array([  1, 256], dtype=int32), 'shape_signature': array([ -1, 256], dtype=int32), 'dtype': <class 'numpy.float32'>, 'quantization': (0.0, 0), 'quantization_parameters': {'scales': array([], dtype=float32), 'zero_points': array([], dtype=int32), 'quantized_dimension': 0}, 'sparsity_parameters': {}}, {'name': 'sequential/dense_1/MatMul;sequential/dense_1/Relu;sequential/dense_1/BiasAdd', 'index': 22, 'shape': array([  1, 128], dtype=int32), 'shape_signature': array([ -1, 128], dtype=int32), 'dtype': <class 'numpy.float32'>, 'quantization': (0.0, 0), 'quantization_parameters': {'scales': array([], dtype=float32), 'zero_points': array([], dtype=int32), 'quantized_dimension': 0}, 'sparsity_parameters': {}}, {'name': 'sequential/dense_2/MatMul;sequential/dense_2/BiasAdd', 'index': 23, 'shape': array([1, 6], dtype=int32), 'shape_signature': array([-1,  6], dtype=int32), 'dtype': <class 'numpy.float32'>, 'quantization': (0.0, 0), 'quantization_parameters': {'scales': array([], dtype=float32), 'zero_points': array([], dtype=int32), 'quantized_dimension': 0}, 'sparsity_parameters': {}}, {'name': 'StatefulPartitionedCall:0', 'index': 24, 'shape': array([1, 6], dtype=int32), 'shape_signature': array([-1,  6], dtype=int32), 'dtype': <class 'numpy.float32'>, 'quantization': (0.0, 0), 'quantization_parameters': {'scales': array([], dtype=float32), 'zero_points': array([], dtype=int32), 'quantized_dimension': 0}, 'sparsity_parameters': {}}, {'name': '', 'index': 25, 'shape': array([    1, 18496], dtype=int32), 'shape_signature': array([    1, 18496], dtype=int32), 'dtype': <class 'numpy.int8'>, 'quantization': (0.0, 0), 'quantization_parameters': {'scales': array([], dtype=float32), 'zero_points': array([], dtype=int32), 'quantized_dimension': 0}, 'sparsity_parameters': {}}, {'name': '', 'index': 26, 'shape': array([1], dtype=int32), 'shape_signature': array([1], dtype=int32), 'dtype': <class 'numpy.float32'>, 'quantization': (0.0, 0), 'quantization_parameters': {'scales': array([], dtype=float32), 'zero_points': array([], dtype=int32), 'quantized_dimension': 0}, 'sparsity_parameters': {}}, {'name': '', 'index': 27, 'shape': array([256,   1], dtype=int32), 'shape_signature': array([256,   1], dtype=int32), 'dtype': <class 'numpy.int32'>, 'quantization': (0.0, 0), 'quantization_parameters': {'scales': array([], dtype=float32), 'zero_points': array([], dtype=int32), 'quantized_dimension': 0}, 'sparsity_parameters': {}}, {'name': '', 'index': 28, 'shape': array([1], dtype=int32), 'shape_signature': array([1], dtype=int32), 'dtype': <class 'numpy.int32'>, 'quantization': (0.0, 0), 'quantization_parameters': {'scales': array([], dtype=float32), 'zero_points': array([], dtype=int32), 'quantized_dimension': 0}, 'sparsity_parameters': {}}, {'name': '', 'index': 29, 'shape': array([256], dtype=int32), 'shape_signature': array([256], dtype=int32), 'dtype': <class 'numpy.int32'>, 'quantization': (0.0, 0), 'quantization_parameters': {'scales': array([], dtype=float32), 'zero_points': array([], dtype=int32), 'quantized_dimension': 0}, 'sparsity_parameters': {}}, {'name': '', 'index': 31, 'shape': array([  1, 256], dtype=int32), 'shape_signature': array([  1, 256], dtype=int32), 'dtype': <class 'numpy.int8'>, 'quantization': (0.0, 0), 'quantization_parameters': {'scales': array([], dtype=float32), 'zero_points': array([], dtype=int32), 'quantized_dimension': 0}, 'sparsity_parameters': {}}, {'name': '', 'index': 32, 'shape': array([1], dtype=int32), 'shape_signature': array([1], dtype=int32), 'dtype': <class 'numpy.float32'>, 'quantization': (0.0, 0), 'quantization_parameters': {'scales': array([], dtype=float32), 'zero_points': array([], dtype=int32), 'quantized_dimension': 0}, 'sparsity_parameters': {}}, {'name': '', 'index': 33, 'shape': array([128,   1], dtype=int32), 'shape_signature': array([128,   1], dtype=int32), 'dtype': <class 'numpy.int32'>, 'quantization': (0.0, 0), 'quantization_parameters': {'scales': array([], dtype=float32), 'zero_points': array([], dtype=int32), 'quantized_dimension': 0}, 'sparsity_parameters': {}}, {'name': '', 'index': 34, 'shape': array([1], dtype=int32), 'shape_signature': array([1], dtype=int32), 'dtype': <class 'numpy.int32'>, 'quantization': (0.0, 0), 'quantization_parameters': {'scales': array([], dtype=float32), 'zero_points': array([], dtype=int32), 'quantized_dimension': 0}, 'sparsity_parameters': {}}, {'name': '', 'index': 35, 'shape': array([128], dtype=int32), 'shape_signature': array([128], dtype=int32), 'dtype': <class 'numpy.int32'>, 'quantization': (0.0, 0), 'quantization_parameters': {'scales': array([], dtype=float32), 'zero_points': array([], dtype=int32), 'quantized_dimension': 0}, 'sparsity_parameters': {}}, {'name': 'Conv_hwcn_weights', 'index': 43, 'shape': array([27, 16], dtype=int32), 'shape_signature': array([27, 16], dtype=int32), 'dtype': <class 'numpy.float32'>, 'quantization': (0.0, 0), 'quantization_parameters': {'scales': array([], dtype=float32), 'zero_points': array([], dtype=int32), 'quantized_dimension': 0}, 'sparsity_parameters': {}}, {'name': '', 'index': 44, 'shape': array([  1,  72,  72, 144], dtype=int32), 'shape_signature': array([  1,  72,  72, 144], dtype=int32), 'dtype': <class 'numpy.int8'>, 'quantization': (0.0, 0), 'quantization_parameters': {'scales': array([], dtype=float32), 'zero_points': array([], dtype=int32), 'quantized_dimension': 0}, 'sparsity_parameters': {}}, {'name': '', 'index': 45, 'shape': array([ 1, 74, 74, 16], dtype=int32), 'shape_signature': array([ 1, 74, 74, 16], dtype=int32), 'dtype': <class 'numpy.int8'>, 'quantization': (0.0, 0), 'quantization_parameters': {'scales': array([], dtype=float32), 'zero_points': array([], dtype=int32), 'quantized_dimension': 0}, 'sparsity_parameters': {}}, {'name': '', 'index': 46, 'shape': array([5476], dtype=int32), 'shape_signature': array([5476], dtype=int32), 'dtype': <class 'numpy.float32'>, 'quantization': (0.0, 0), 'quantization_parameters': {'scales': array([], dtype=float32), 'zero_points': array([], dtype=int32), 'quantized_dimension': 0}, 'sparsity_parameters': {}}, {'name': '', 'index': 47, 'shape': array([  32, 5184], dtype=int32), 'shape_signature': array([  32, 5184], dtype=int32), 'dtype': <class 'numpy.int32'>, 'quantization': (0.0, 0), 'quantization_parameters': {'scales': array([], dtype=float32), 'zero_points': array([], dtype=int32), 'quantized_dimension': 0}, 'sparsity_parameters': {}}, {'name': '', 'index': 48, 'shape': array([5476], dtype=int32), 'shape_signature': array([5476], dtype=int32), 'dtype': <class 'numpy.int32'>, 'quantization': (0.0, 0), 'quantization_parameters': {'scales': array([], dtype=float32), 'zero_points': array([], dtype=int32), 'quantized_dimension': 0}, 'sparsity_parameters': {}}, {'name': 'Conv_row_sums', 'index': 49, 'shape': array([32], dtype=int32), 'shape_signature': array([32], dtype=int32), 'dtype': <class 'numpy.int32'>, 'quantization': (0.0, 0), 'quantization_parameters': {'scales': array([], dtype=float32), 'zero_points': array([], dtype=int32), 'quantized_dimension': 0}, 'sparsity_parameters': {}}, {'name': '', 'index': 50, 'shape': array([  1,  34,  34, 288], dtype=int32), 'shape_signature': array([  1,  34,  34, 288], dtype=int32), 'dtype': <class 'numpy.int8'>, 'quantization': (0.0, 0), 'quantization_parameters': {'scales': array([], dtype=float32), 'zero_points': array([], dtype=int32), 'quantized_dimension': 0}, 'sparsity_parameters': {}}, {'name': '', 'index': 51, 'shape': array([ 1, 36, 36, 32], dtype=int32), 'shape_signature': array([ 1, 36, 36, 32], dtype=int32), 'dtype': <class 'numpy.int8'>, 'quantization': (0.0, 0), 'quantization_parameters': {'scales': array([], dtype=float32), 'zero_points': array([], dtype=int32), 'quantized_dimension': 0}, 'sparsity_parameters': {}}, {'name': '', 'index': 52, 'shape': array([1296], dtype=int32), 'shape_signature': array([1296], dtype=int32), 'dtype': <class 'numpy.float32'>, 'quantization': (0.0, 0), 'quantization_parameters': {'scales': array([], dtype=float32), 'zero_points': array([], dtype=int32), 'quantized_dimension': 0}, 'sparsity_parameters': {}}, {'name': '', 'index': 53, 'shape': array([  64, 1156], dtype=int32), 'shape_signature': array([  64, 1156], dtype=int32), 'dtype': <class 'numpy.int32'>, 'quantization': (0.0, 0), 'quantization_parameters': {'scales': array([], dtype=float32), 'zero_points': array([], dtype=int32), 'quantized_dimension': 0}, 'sparsity_parameters': {}}, {'name': '', 'index': 54, 'shape': array([1296], dtype=int32), 'shape_signature': array([1296], dtype=int32), 'dtype': <class 'numpy.int32'>, 'quantization': (0.0, 0), 'quantization_parameters': {'scales': array([], dtype=float32), 'zero_points': array([], dtype=int32), 'quantized_dimension': 0}, 'sparsity_parameters': {}}, {'name': 'Conv_row_sums', 'index': 55, 'shape': array([64], dtype=int32), 'shape_signature': array([64], dtype=int32), 'dtype': <class 'numpy.int32'>, 'quantization': (0.0, 0), 'quantization_parameters': {'scales': array([], dtype=float32), 'zero_points': array([], dtype=int32), 'quantized_dimension': 0}, 'sparsity_parameters': {}}]\n"
          ]
        }
      ]
    },
    {
      "cell_type": "code",
      "source": [
        "# import tensorflow as tf\n",
        "\n",
        "# # Load the TensorFlow Lite model\n",
        "# interpreter = tf.lite.Interpreter(model_path=\"/content/drive/MyDrive/Capstone 2023/deploy_model/lite_mode.tflite\")\n",
        "# interpreter.allocate_tensors()\n",
        "\n",
        "# # Get input and output details\n",
        "# input_details = interpreter.get_input_details()\n",
        "# output_details = interpreter.get_output_details()\n",
        "\n",
        "# # Get quantization details if applicable\n",
        "# quantization_details = interpreter.get_tensor_details()\n",
        "\n",
        "# # Combine all details into a dictionary\n",
        "# metadata = {\n",
        "#     \"input_details\": input_details,\n",
        "#     \"output_details\": output_details,\n",
        "#     \"quantization_details\": quantization_details\n",
        "# }\n"
      ],
      "metadata": {
        "id": "G1dcnpPl_XdS"
      },
      "execution_count": null,
      "outputs": []
    },
    {
      "cell_type": "code",
      "source": [
        "# import tensorflow as tf\n",
        "# import json\n",
        "# import numpy as np\n",
        "\n",
        "# def convert_tensor(tensor):\n",
        "#     return tensor.numpy().tolist()\n",
        "\n",
        "# def convert_dtype(dtype):\n",
        "#     if isinstance(dtype, tf.dtypes.DType):\n",
        "#         return dtype.name\n",
        "#     elif isinstance(dtype, np.dtype):\n",
        "#         return str(dtype)\n",
        "#     return dtype\n",
        "\n",
        "# def convert_shape(shape):\n",
        "#     return shape.as_list()\n",
        "\n",
        "# def convert_quantization(quantization):\n",
        "#     if not quantization:\n",
        "#         return {}\n",
        "\n",
        "#     return {\n",
        "#         \"scale\": quantization['scales'].tolist(),\n",
        "#         \"zero_point\": quantization['zero_points'].tolist(),\n",
        "#         \"quantized_dimension\": quantization['quantized_dimension']\n",
        "#     }\n",
        "\n",
        "# def convert_tensor_details(tensor_details):\n",
        "#     converted_details = []\n",
        "#     for detail in tensor_details:\n",
        "#         converted_detail = {\n",
        "#             \"name\": detail['name'],\n",
        "#             \"index\": detail['index'],\n",
        "#             \"shape\": convert_shape(detail['shape']),\n",
        "#             \"dtype\": convert_dtype(detail['dtype']),\n",
        "#             \"quantization\": convert_quantization(detail.get('quantization', {}))\n",
        "#         }\n",
        "#         converted_details.append(converted_detail)\n",
        "#     return converted_details\n",
        "\n",
        "# # Load the TensorFlow Lite model\n",
        "# interpreter = tf.lite.Interpreter(model_path=\"/content/drive/MyDrive/Capstone 2023/deploy_model/lite_mode.tflite\")\n",
        "# interpreter.allocate_tensors()\n",
        "\n",
        "# # Get input and output details\n",
        "# input_details = interpreter.get_input_details()\n",
        "# output_details = interpreter.get_output_details()\n",
        "\n",
        "# # Get quantization details if applicable\n",
        "# quantization_details = interpreter.get_tensor_details()\n",
        "\n",
        "# # Convert TensorFlow details to serializable format\n",
        "# converted_input_details = convert_tensor_details(input_details)\n",
        "# converted_output_details = convert_tensor_details(output_details)\n",
        "# converted_quantization_details = convert_tensor_details(quantization_details)\n",
        "\n",
        "# # Combine all details into a dictionary\n",
        "# metadata = {\n",
        "#     \"input_details\": converted_input_details,\n",
        "#     \"output_details\": converted_output_details,\n",
        "#     \"quantization_details\": converted_quantization_details\n",
        "# }\n",
        "\n",
        "# # Save metadata to a JSON file\n",
        "# with open(\"metadata.json\", \"w\") as json_file:\n",
        "#     json.dump(metadata, json_file)\n"
      ],
      "metadata": {
        "colab": {
          "base_uri": "https://localhost:8080/",
          "height": 390
        },
        "id": "ajsWMtbFAr3_",
        "outputId": "96a581e5-1ad1-45cb-d45b-b4ed7212cfca"
      },
      "execution_count": null,
      "outputs": [
        {
          "output_type": "error",
          "ename": "AttributeError",
          "evalue": "ignored",
          "traceback": [
            "\u001b[0;31m---------------------------------------------------------------------------\u001b[0m",
            "\u001b[0;31mAttributeError\u001b[0m                            Traceback (most recent call last)",
            "\u001b[0;32m<ipython-input-25-5b32bc827e8e>\u001b[0m in \u001b[0;36m<cell line: 53>\u001b[0;34m()\u001b[0m\n\u001b[1;32m     51\u001b[0m \u001b[0;34m\u001b[0m\u001b[0m\n\u001b[1;32m     52\u001b[0m \u001b[0;31m# Convert TensorFlow details to serializable format\u001b[0m\u001b[0;34m\u001b[0m\u001b[0;34m\u001b[0m\u001b[0m\n\u001b[0;32m---> 53\u001b[0;31m \u001b[0mconverted_input_details\u001b[0m \u001b[0;34m=\u001b[0m \u001b[0mconvert_tensor_details\u001b[0m\u001b[0;34m(\u001b[0m\u001b[0minput_details\u001b[0m\u001b[0;34m)\u001b[0m\u001b[0;34m\u001b[0m\u001b[0;34m\u001b[0m\u001b[0m\n\u001b[0m\u001b[1;32m     54\u001b[0m \u001b[0mconverted_output_details\u001b[0m \u001b[0;34m=\u001b[0m \u001b[0mconvert_tensor_details\u001b[0m\u001b[0;34m(\u001b[0m\u001b[0moutput_details\u001b[0m\u001b[0;34m)\u001b[0m\u001b[0;34m\u001b[0m\u001b[0;34m\u001b[0m\u001b[0m\n\u001b[1;32m     55\u001b[0m \u001b[0mconverted_quantization_details\u001b[0m \u001b[0;34m=\u001b[0m \u001b[0mconvert_tensor_details\u001b[0m\u001b[0;34m(\u001b[0m\u001b[0mquantization_details\u001b[0m\u001b[0;34m)\u001b[0m\u001b[0;34m\u001b[0m\u001b[0;34m\u001b[0m\u001b[0m\n",
            "\u001b[0;32m<ipython-input-25-5b32bc827e8e>\u001b[0m in \u001b[0;36mconvert_tensor_details\u001b[0;34m(tensor_details)\u001b[0m\n\u001b[1;32m     32\u001b[0m             \u001b[0;34m\"name\"\u001b[0m\u001b[0;34m:\u001b[0m \u001b[0mdetail\u001b[0m\u001b[0;34m[\u001b[0m\u001b[0;34m'name'\u001b[0m\u001b[0;34m]\u001b[0m\u001b[0;34m,\u001b[0m\u001b[0;34m\u001b[0m\u001b[0;34m\u001b[0m\u001b[0m\n\u001b[1;32m     33\u001b[0m             \u001b[0;34m\"index\"\u001b[0m\u001b[0;34m:\u001b[0m \u001b[0mdetail\u001b[0m\u001b[0;34m[\u001b[0m\u001b[0;34m'index'\u001b[0m\u001b[0;34m]\u001b[0m\u001b[0;34m,\u001b[0m\u001b[0;34m\u001b[0m\u001b[0;34m\u001b[0m\u001b[0m\n\u001b[0;32m---> 34\u001b[0;31m             \u001b[0;34m\"shape\"\u001b[0m\u001b[0;34m:\u001b[0m \u001b[0mconvert_shape\u001b[0m\u001b[0;34m(\u001b[0m\u001b[0mdetail\u001b[0m\u001b[0;34m[\u001b[0m\u001b[0;34m'shape'\u001b[0m\u001b[0;34m]\u001b[0m\u001b[0;34m)\u001b[0m\u001b[0;34m,\u001b[0m\u001b[0;34m\u001b[0m\u001b[0;34m\u001b[0m\u001b[0m\n\u001b[0m\u001b[1;32m     35\u001b[0m             \u001b[0;34m\"dtype\"\u001b[0m\u001b[0;34m:\u001b[0m \u001b[0mconvert_dtype\u001b[0m\u001b[0;34m(\u001b[0m\u001b[0mdetail\u001b[0m\u001b[0;34m[\u001b[0m\u001b[0;34m'dtype'\u001b[0m\u001b[0;34m]\u001b[0m\u001b[0;34m)\u001b[0m\u001b[0;34m,\u001b[0m\u001b[0;34m\u001b[0m\u001b[0;34m\u001b[0m\u001b[0m\n\u001b[1;32m     36\u001b[0m             \u001b[0;34m\"quantization\"\u001b[0m\u001b[0;34m:\u001b[0m \u001b[0mconvert_quantization\u001b[0m\u001b[0;34m(\u001b[0m\u001b[0mdetail\u001b[0m\u001b[0;34m.\u001b[0m\u001b[0mget\u001b[0m\u001b[0;34m(\u001b[0m\u001b[0;34m'quantization'\u001b[0m\u001b[0;34m,\u001b[0m \u001b[0;34m{\u001b[0m\u001b[0;34m}\u001b[0m\u001b[0;34m)\u001b[0m\u001b[0;34m)\u001b[0m\u001b[0;34m\u001b[0m\u001b[0;34m\u001b[0m\u001b[0m\n",
            "\u001b[0;32m<ipython-input-25-5b32bc827e8e>\u001b[0m in \u001b[0;36mconvert_shape\u001b[0;34m(shape)\u001b[0m\n\u001b[1;32m     14\u001b[0m \u001b[0;34m\u001b[0m\u001b[0m\n\u001b[1;32m     15\u001b[0m \u001b[0;32mdef\u001b[0m \u001b[0mconvert_shape\u001b[0m\u001b[0;34m(\u001b[0m\u001b[0mshape\u001b[0m\u001b[0;34m)\u001b[0m\u001b[0;34m:\u001b[0m\u001b[0;34m\u001b[0m\u001b[0;34m\u001b[0m\u001b[0m\n\u001b[0;32m---> 16\u001b[0;31m     \u001b[0;32mreturn\u001b[0m \u001b[0mshape\u001b[0m\u001b[0;34m.\u001b[0m\u001b[0mas_list\u001b[0m\u001b[0;34m(\u001b[0m\u001b[0;34m)\u001b[0m\u001b[0;34m\u001b[0m\u001b[0;34m\u001b[0m\u001b[0m\n\u001b[0m\u001b[1;32m     17\u001b[0m \u001b[0;34m\u001b[0m\u001b[0m\n\u001b[1;32m     18\u001b[0m \u001b[0;32mdef\u001b[0m \u001b[0mconvert_quantization\u001b[0m\u001b[0;34m(\u001b[0m\u001b[0mquantization\u001b[0m\u001b[0;34m)\u001b[0m\u001b[0;34m:\u001b[0m\u001b[0;34m\u001b[0m\u001b[0;34m\u001b[0m\u001b[0m\n",
            "\u001b[0;31mAttributeError\u001b[0m: 'numpy.ndarray' object has no attribute 'as_list'"
          ]
        }
      ]
    }
  ]
}