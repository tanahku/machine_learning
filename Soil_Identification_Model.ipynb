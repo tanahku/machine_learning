{
  "nbformat": 4,
  "nbformat_minor": 0,
  "metadata": {
    "colab": {
      "provenance": []
    },
    "kernelspec": {
      "name": "python3",
      "display_name": "Python 3"
    },
    "language_info": {
      "name": "python"
    }
  },
  "cells": [
    {
      "cell_type": "code",
      "execution_count": 4,
      "metadata": {
        "id": "na5-NYPMTA03"
      },
      "outputs": [],
      "source": [
        "import os\n",
        "import tensorflow as tf\n",
        "from tensorflow import keras\n",
        "from keras.preprocessing.image import ImageDataGenerator\n",
        "import matplotlib.pyplot as plt\n",
        "from keras import regularizers"
      ]
    },
    {
      "cell_type": "code",
      "source": [
        "train_path = '/content/drive/MyDrive/Capstone Project/soil_image'\n",
        "\n",
        "folders = os.listdir(train_path)\n",
        "\n",
        "print(\"Jumlah Folder: \", (len(folders)))\n",
        "print(\"Daftar Folder:\")\n",
        "for folder in folders:\n",
        "    print(folder)"
      ],
      "metadata": {
        "colab": {
          "base_uri": "https://localhost:8080/"
        },
        "id": "q5S-zikKTNyj",
        "outputId": "986a9d22-6c7b-4e8f-cbfd-83b6e3618808"
      },
      "execution_count": 5,
      "outputs": [
        {
          "output_type": "stream",
          "name": "stdout",
          "text": [
            "Jumlah Folder:  6\n",
            "Daftar Folder:\n",
            "peat\n",
            "clay\n",
            "loam\n",
            "chalk\n",
            "silt\n",
            "sand\n"
          ]
        }
      ]
    },
    {
      "cell_type": "code",
      "source": [
        "# Augmentasi data\n",
        "train_datagen = ImageDataGenerator(\n",
        "    rescale=1./255,\n",
        "    brightness_range=[0.5, 1.5],\n",
        "    channel_shift_range=20,\n",
        "    validation_split=0.2\n",
        ")\n",
        "validation_datagen = ImageDataGenerator(rescale=1./255)\n",
        "\n",
        "train_batches = train_datagen.flow_from_directory(\n",
        "    train_path,\n",
        "    target_size=(150, 150),\n",
        "    batch_size=32,\n",
        "    shuffle=True,\n",
        "    class_mode='categorical'\n",
        ")\n",
        "\n",
        "validation_batches = validation_datagen.flow_from_directory(\n",
        "    train_path,\n",
        "    target_size=(150, 150),\n",
        "    batch_size=32,\n",
        "    shuffle=True,\n",
        "    class_mode='categorical'\n",
        ")"
      ],
      "metadata": {
        "colab": {
          "base_uri": "https://localhost:8080/"
        },
        "id": "5ZZaTdOyTPxv",
        "outputId": "c7415f80-650f-4537-d755-b5abf67c720e"
      },
      "execution_count": 6,
      "outputs": [
        {
          "output_type": "stream",
          "name": "stdout",
          "text": [
            "Found 454 images belonging to 6 classes.\n",
            "Found 454 images belonging to 6 classes.\n"
          ]
        }
      ]
    },
    {
      "cell_type": "code",
      "source": [
        "def create_model():\n",
        "  model = tf.keras.models.Sequential([\n",
        "      tf.keras.layers.Conv2D(16, (3, 3), activation='relu', input_shape = (150, 150, 3)),\n",
        "      tf.keras.layers.MaxPooling2D(2, 2),\n",
        "      tf.keras.layers.Conv2D(32, (3, 3), activation='relu'),\n",
        "      tf.keras.layers.MaxPooling2D(2, 2),\n",
        "      tf.keras.layers.Conv2D(64, (3, 3), activation='relu'),\n",
        "      tf.keras.layers.MaxPooling2D(2, 2),\n",
        "      tf.keras.layers.Flatten(),\n",
        "      tf.keras.layers.Dropout(0.2),\n",
        "      tf.keras.layers.Dense(256, activation='relu', kernel_regularizer=regularizers.l2(0.001)),\n",
        "      tf.keras.layers.Dense(128, activation='relu', kernel_regularizer=regularizers.l2(0.001)),\n",
        "      tf.keras.layers.Dense(6, activation='softmax')\n",
        "  ])\n",
        "  return model"
      ],
      "metadata": {
        "id": "U8adZILQTzqX"
      },
      "execution_count": 7,
      "outputs": []
    },
    {
      "cell_type": "code",
      "source": [
        "model = create_model()\n",
        "model.summary()"
      ],
      "metadata": {
        "colab": {
          "base_uri": "https://localhost:8080/"
        },
        "id": "IjIuUDBKT2YR",
        "outputId": "8ec0e614-2a0a-42ba-8459-f80fd8528193"
      },
      "execution_count": 8,
      "outputs": [
        {
          "output_type": "stream",
          "name": "stdout",
          "text": [
            "Model: \"sequential\"\n",
            "_________________________________________________________________\n",
            " Layer (type)                Output Shape              Param #   \n",
            "=================================================================\n",
            " conv2d (Conv2D)             (None, 148, 148, 16)      448       \n",
            "                                                                 \n",
            " max_pooling2d (MaxPooling2  (None, 74, 74, 16)        0         \n",
            " D)                                                              \n",
            "                                                                 \n",
            " conv2d_1 (Conv2D)           (None, 72, 72, 32)        4640      \n",
            "                                                                 \n",
            " max_pooling2d_1 (MaxPoolin  (None, 36, 36, 32)        0         \n",
            " g2D)                                                            \n",
            "                                                                 \n",
            " conv2d_2 (Conv2D)           (None, 34, 34, 64)        18496     \n",
            "                                                                 \n",
            " max_pooling2d_2 (MaxPoolin  (None, 17, 17, 64)        0         \n",
            " g2D)                                                            \n",
            "                                                                 \n",
            " flatten (Flatten)           (None, 18496)             0         \n",
            "                                                                 \n",
            " dropout (Dropout)           (None, 18496)             0         \n",
            "                                                                 \n",
            " dense (Dense)               (None, 256)               4735232   \n",
            "                                                                 \n",
            " dense_1 (Dense)             (None, 128)               32896     \n",
            "                                                                 \n",
            " dense_2 (Dense)             (None, 6)                 774       \n",
            "                                                                 \n",
            "=================================================================\n",
            "Total params: 4792486 (18.28 MB)\n",
            "Trainable params: 4792486 (18.28 MB)\n",
            "Non-trainable params: 0 (0.00 Byte)\n",
            "_________________________________________________________________\n"
          ]
        }
      ]
    },
    {
      "cell_type": "code",
      "source": [
        "model.compile(loss='categorical_crossentropy', optimizer='adam', metrics=['accuracy'])\n",
        "history = model.fit(train_batches, validation_data=validation_batches, verbose=1, epochs=50)"
      ],
      "metadata": {
        "colab": {
          "base_uri": "https://localhost:8080/"
        },
        "id": "vSpwM8b_T4Y_",
        "outputId": "4c31be1e-f10e-484c-ea98-cc6a34cb59bb"
      },
      "execution_count": 9,
      "outputs": [
        {
          "output_type": "stream",
          "name": "stdout",
          "text": [
            "Epoch 1/50\n",
            "15/15 [==============================] - 150s 10s/step - loss: 2.3291 - accuracy: 0.2489 - val_loss: 1.9607 - val_accuracy: 0.3789\n",
            "Epoch 2/50\n",
            "15/15 [==============================] - 23s 2s/step - loss: 1.8692 - accuracy: 0.3304 - val_loss: 1.6474 - val_accuracy: 0.4031\n",
            "Epoch 3/50\n",
            "15/15 [==============================] - 27s 2s/step - loss: 1.6660 - accuracy: 0.4163 - val_loss: 1.6244 - val_accuracy: 0.4229\n",
            "Epoch 4/50\n",
            "15/15 [==============================] - 23s 1s/step - loss: 1.6758 - accuracy: 0.3634 - val_loss: 1.5214 - val_accuracy: 0.5220\n",
            "Epoch 5/50\n",
            "15/15 [==============================] - 26s 2s/step - loss: 1.5248 - accuracy: 0.4736 - val_loss: 1.2686 - val_accuracy: 0.5969\n",
            "Epoch 6/50\n",
            "15/15 [==============================] - 23s 2s/step - loss: 1.4039 - accuracy: 0.5066 - val_loss: 1.2220 - val_accuracy: 0.5815\n",
            "Epoch 7/50\n",
            "15/15 [==============================] - 27s 2s/step - loss: 1.2866 - accuracy: 0.5441 - val_loss: 1.0986 - val_accuracy: 0.6520\n",
            "Epoch 8/50\n",
            "15/15 [==============================] - 29s 2s/step - loss: 1.3276 - accuracy: 0.5683 - val_loss: 1.2199 - val_accuracy: 0.5573\n",
            "Epoch 9/50\n",
            "15/15 [==============================] - 26s 2s/step - loss: 1.2878 - accuracy: 0.5352 - val_loss: 1.0754 - val_accuracy: 0.6872\n",
            "Epoch 10/50\n",
            "15/15 [==============================] - 27s 2s/step - loss: 1.2251 - accuracy: 0.5881 - val_loss: 1.0566 - val_accuracy: 0.6344\n",
            "Epoch 11/50\n",
            "15/15 [==============================] - 26s 2s/step - loss: 1.2232 - accuracy: 0.5639 - val_loss: 1.0561 - val_accuracy: 0.6520\n",
            "Epoch 12/50\n",
            "15/15 [==============================] - 26s 2s/step - loss: 1.1161 - accuracy: 0.6366 - val_loss: 0.9330 - val_accuracy: 0.7115\n",
            "Epoch 13/50\n",
            "15/15 [==============================] - 26s 2s/step - loss: 0.9522 - accuracy: 0.7225 - val_loss: 0.8212 - val_accuracy: 0.7401\n",
            "Epoch 14/50\n",
            "15/15 [==============================] - 27s 2s/step - loss: 0.9366 - accuracy: 0.7093 - val_loss: 0.7561 - val_accuracy: 0.7841\n",
            "Epoch 15/50\n",
            "15/15 [==============================] - 23s 2s/step - loss: 0.8397 - accuracy: 0.7401 - val_loss: 0.6739 - val_accuracy: 0.8568\n",
            "Epoch 16/50\n",
            "15/15 [==============================] - 25s 2s/step - loss: 0.7792 - accuracy: 0.7797 - val_loss: 0.6147 - val_accuracy: 0.8612\n",
            "Epoch 17/50\n",
            "15/15 [==============================] - 27s 2s/step - loss: 0.7440 - accuracy: 0.7885 - val_loss: 0.6137 - val_accuracy: 0.8524\n",
            "Epoch 18/50\n",
            "15/15 [==============================] - 26s 2s/step - loss: 0.7588 - accuracy: 0.7819 - val_loss: 0.8234 - val_accuracy: 0.7335\n",
            "Epoch 19/50\n",
            "15/15 [==============================] - 26s 2s/step - loss: 0.7599 - accuracy: 0.8062 - val_loss: 0.6606 - val_accuracy: 0.8326\n",
            "Epoch 20/50\n",
            "15/15 [==============================] - 28s 2s/step - loss: 0.6349 - accuracy: 0.8590 - val_loss: 0.5100 - val_accuracy: 0.8877\n",
            "Epoch 21/50\n",
            "15/15 [==============================] - 25s 2s/step - loss: 0.5963 - accuracy: 0.8634 - val_loss: 0.4703 - val_accuracy: 0.9097\n",
            "Epoch 22/50\n",
            "15/15 [==============================] - 24s 2s/step - loss: 0.6032 - accuracy: 0.8678 - val_loss: 0.5344 - val_accuracy: 0.9009\n",
            "Epoch 23/50\n",
            "15/15 [==============================] - 27s 2s/step - loss: 0.6153 - accuracy: 0.8612 - val_loss: 0.4562 - val_accuracy: 0.9361\n",
            "Epoch 24/50\n",
            "15/15 [==============================] - 27s 2s/step - loss: 0.6416 - accuracy: 0.8612 - val_loss: 0.5261 - val_accuracy: 0.8987\n",
            "Epoch 25/50\n",
            "15/15 [==============================] - 26s 2s/step - loss: 0.5759 - accuracy: 0.8789 - val_loss: 0.4926 - val_accuracy: 0.9075\n",
            "Epoch 26/50\n",
            "15/15 [==============================] - 25s 2s/step - loss: 0.6178 - accuracy: 0.8590 - val_loss: 0.5869 - val_accuracy: 0.9009\n",
            "Epoch 27/50\n",
            "15/15 [==============================] - 29s 2s/step - loss: 0.5796 - accuracy: 0.8855 - val_loss: 0.4421 - val_accuracy: 0.9405\n",
            "Epoch 28/50\n",
            "15/15 [==============================] - 27s 2s/step - loss: 0.5337 - accuracy: 0.8943 - val_loss: 0.4480 - val_accuracy: 0.9251\n",
            "Epoch 29/50\n",
            "15/15 [==============================] - 25s 2s/step - loss: 0.5263 - accuracy: 0.8965 - val_loss: 0.4252 - val_accuracy: 0.9471\n",
            "Epoch 30/50\n",
            "15/15 [==============================] - 23s 2s/step - loss: 0.4775 - accuracy: 0.9317 - val_loss: 0.4094 - val_accuracy: 0.9449\n",
            "Epoch 31/50\n",
            "15/15 [==============================] - 26s 2s/step - loss: 0.5754 - accuracy: 0.8678 - val_loss: 0.4565 - val_accuracy: 0.9185\n",
            "Epoch 32/50\n",
            "15/15 [==============================] - 27s 2s/step - loss: 0.5034 - accuracy: 0.9163 - val_loss: 0.3837 - val_accuracy: 0.9604\n",
            "Epoch 33/50\n",
            "15/15 [==============================] - 24s 2s/step - loss: 0.4316 - accuracy: 0.9559 - val_loss: 0.3379 - val_accuracy: 0.9802\n",
            "Epoch 34/50\n",
            "15/15 [==============================] - 36s 2s/step - loss: 0.3837 - accuracy: 0.9559 - val_loss: 0.3368 - val_accuracy: 0.9802\n",
            "Epoch 35/50\n",
            "15/15 [==============================] - 23s 2s/step - loss: 0.3822 - accuracy: 0.9449 - val_loss: 0.5161 - val_accuracy: 0.8943\n",
            "Epoch 36/50\n",
            "15/15 [==============================] - 26s 2s/step - loss: 0.5452 - accuracy: 0.9207 - val_loss: 0.4467 - val_accuracy: 0.9670\n",
            "Epoch 37/50\n",
            "15/15 [==============================] - 27s 2s/step - loss: 0.4328 - accuracy: 0.9449 - val_loss: 0.3352 - val_accuracy: 0.9824\n",
            "Epoch 38/50\n",
            "15/15 [==============================] - 26s 2s/step - loss: 0.4887 - accuracy: 0.9141 - val_loss: 0.4338 - val_accuracy: 0.9581\n",
            "Epoch 39/50\n",
            "15/15 [==============================] - 26s 2s/step - loss: 0.3964 - accuracy: 0.9493 - val_loss: 0.3098 - val_accuracy: 0.9868\n",
            "Epoch 40/50\n",
            "15/15 [==============================] - 24s 2s/step - loss: 0.4775 - accuracy: 0.9273 - val_loss: 0.3477 - val_accuracy: 0.9890\n",
            "Epoch 41/50\n",
            "15/15 [==============================] - 26s 2s/step - loss: 0.6120 - accuracy: 0.9031 - val_loss: 0.4068 - val_accuracy: 0.9537\n",
            "Epoch 42/50\n",
            "15/15 [==============================] - 27s 2s/step - loss: 0.4351 - accuracy: 0.9493 - val_loss: 0.3547 - val_accuracy: 0.9890\n",
            "Epoch 43/50\n",
            "15/15 [==============================] - 23s 2s/step - loss: 0.3564 - accuracy: 0.9802 - val_loss: 0.3316 - val_accuracy: 0.9780\n",
            "Epoch 44/50\n",
            "15/15 [==============================] - 26s 2s/step - loss: 0.3913 - accuracy: 0.9581 - val_loss: 0.4280 - val_accuracy: 0.9515\n",
            "Epoch 45/50\n",
            "15/15 [==============================] - 27s 2s/step - loss: 0.4751 - accuracy: 0.9537 - val_loss: 0.3341 - val_accuracy: 0.9912\n",
            "Epoch 46/50\n",
            "15/15 [==============================] - 27s 2s/step - loss: 0.3492 - accuracy: 0.9780 - val_loss: 0.3261 - val_accuracy: 0.9846\n",
            "Epoch 47/50\n",
            "15/15 [==============================] - 25s 2s/step - loss: 0.3294 - accuracy: 0.9868 - val_loss: 0.2783 - val_accuracy: 1.0000\n",
            "Epoch 48/50\n",
            "15/15 [==============================] - 27s 2s/step - loss: 0.3010 - accuracy: 0.9934 - val_loss: 0.2782 - val_accuracy: 0.9978\n",
            "Epoch 49/50\n",
            "15/15 [==============================] - 27s 2s/step - loss: 0.3101 - accuracy: 0.9780 - val_loss: 0.2679 - val_accuracy: 0.9956\n",
            "Epoch 50/50\n",
            "15/15 [==============================] - 26s 2s/step - loss: 0.2789 - accuracy: 0.9934 - val_loss: 0.2549 - val_accuracy: 0.9978\n"
          ]
        }
      ]
    },
    {
      "cell_type": "code",
      "source": [
        "# Menampilkan grafik loss dan akurasi\n",
        "plt.figure(figsize=(12, 4))\n",
        "\n",
        "# Plot Loss\n",
        "plt.subplot(1, 2, 1)\n",
        "plt.plot(history.history['loss'], label='Training Loss')\n",
        "plt.plot(history.history['val_loss'], label='Validation Loss')\n",
        "plt.title('Training and Validation Loss')\n",
        "plt.xlabel('Epoch')\n",
        "plt.ylabel('Loss')\n",
        "plt.legend()\n",
        "\n",
        "# Plot Accuracy\n",
        "plt.subplot(1, 2, 2)\n",
        "plt.plot(history.history['accuracy'], label='Training Accuracy')\n",
        "plt.plot(history.history['val_accuracy'], label='Validation Accuracy')\n",
        "plt.title('Training and Validation Accuracy')\n",
        "plt.xlabel('Epoch')\n",
        "plt.ylabel('Accuracy')\n",
        "plt.legend()\n",
        "\n",
        "plt.tight_layout()\n",
        "plt.show()"
      ],
      "metadata": {
        "colab": {
          "base_uri": "https://localhost:8080/",
          "height": 407
        },
        "id": "10IwppFc--Nq",
        "outputId": "c4b18ec2-1b15-47e1-81a5-70b9e352c53a"
      },
      "execution_count": 10,
      "outputs": [
        {
          "output_type": "display_data",
          "data": {
            "text/plain": [
              "<Figure size 1200x400 with 2 Axes>"
            ],
            "image/png": "[encoded data removed]"
          },
          "metadata": {}
        }
      ]
    },
    {
      "cell_type": "code",
      "source": [
        "from PIL import Image\n",
        "import numpy as np\n",
        "from skimage import transform\n",
        "\n",
        "def load(filename):\n",
        "  np_image = Image.open(filename)\n",
        "  np_image = np.array(np_image).astype('float32') / 255\n",
        "  np_image = transform.resize(np_image, (150, 150, 3))\n",
        "  np_image = np.expand_dims(np_image, axis=0)\n",
        "  return np_image\n",
        "\n",
        "image = load('/content/drive/MyDrive/Capstone Project/Predict/Screenshot 2023-12-13 131046.png')\n",
        "predictions = model.predict(image)\n",
        "predicted_class = np.argmax(predictions)\n",
        "\n",
        "\n",
        "class_labels = ['Chalk', 'Clay', 'Loam', 'Peat', 'Sand', 'Silt']\n",
        "print(f\"Predicted Class: {predicted_class}\")\n",
        "print(f\"Predicted Label: {class_labels[predicted_class]}\")"
      ],
      "metadata": {
        "colab": {
          "base_uri": "https://localhost:8080/"
        },
        "id": "fJQcyOSu-fY1",
        "outputId": "5a3ea0a6-9ff4-4cbc-954c-1d7b806aeca7"
      },
      "execution_count": 11,
      "outputs": [
        {
          "output_type": "stream",
          "name": "stdout",
          "text": [
            "1/1 [==============================] - 0s 218ms/step\n",
            "Predicted Class: 0\n",
            "Predicted Label: Chalk\n"
          ]
        }
      ]
    },
    {
      "cell_type": "code",
      "source": [
        "model.save('/content/drive/MyDrive/Capstone Project/saved_model_1')"
      ],
      "metadata": {
        "id": "cSxEMZWF_NzN"
      },
      "execution_count": 12,
      "outputs": []
    },
    {
      "cell_type": "code",
      "source": [
        "loaded_model = tf.keras.models.load_model('/content/drive/MyDrive/Capstone Project/saved_model_1')\n",
        "\n",
        "loaded_model.save('/content/drive/MyDrive/Capstone Project/saved_model_1/model_1.h5')"
      ],
      "metadata": {
        "colab": {
          "base_uri": "https://localhost:8080/"
        },
        "id": "Wz4tbGILeAUV",
        "outputId": "f075c927-ca1f-4daf-e4d3-2e0f625d3962"
      },
      "execution_count": 13,
      "outputs": [
        {
          "output_type": "stream",
          "name": "stderr",
          "text": [
            "/usr/local/lib/python3.10/dist-packages/keras/src/engine/training.py:3103: UserWarning: You are saving your model as an HDF5 file via `model.save()`. This file format is considered legacy. We recommend using instead the native Keras format, e.g. `model.save('my_model.keras')`.\n",
            "  saving_api.save_model(\n"
          ]
        }
      ]
    },
    {
      "cell_type": "code",
      "source": [
        "model = tf.keras.models.load_model('/content/drive/MyDrive/Capstone Project/saved_model_1/model_1.h5')\n",
        "converter = tf.lite.TFLiteConverter.from_keras_model(model)\n",
        "tflite_model = converter.convert()\n",
        "open(\"model_1.tflite\", \"wb\").write(tflite_model)"
      ],
      "metadata": {
        "colab": {
          "base_uri": "https://localhost:8080/"
        },
        "id": "XgWlTtrBh-q3",
        "outputId": "e37dd555-80d8-4a18-d7ca-e3e3cb019437"
      },
      "execution_count": 14,
      "outputs": [
        {
          "output_type": "execute_result",
          "data": {
            "text/plain": [
              "19174428"
            ]
          },
          "metadata": {},
          "execution_count": 14
        }
      ]
    },
    {
      "cell_type": "code",
      "source": [
        "tflite_model_path = '/content/model_1.tflite'\n",
        "\n",
        "interpreter = tf.lite.Interpreter(model_path=tflite_model_path)\n",
        "interpreter.allocate_tensors()\n",
        "\n",
        "input_details = interpreter.get_input_details()\n",
        "output_details = interpreter.get_output_details()\n",
        "\n",
        "print(\"Input details:\")\n",
        "print(input_details)\n",
        "\n",
        "print(\"\\nOutput details:\")\n",
        "print(output_details)"
      ],
      "metadata": {
        "colab": {
          "base_uri": "https://localhost:8080/"
        },
        "id": "ODuCPfvUiaoZ",
        "outputId": "31e5c025-d5cf-4c0d-ff19-170c7b1ce83c"
      },
      "execution_count": 15,
      "outputs": [
        {
          "output_type": "stream",
          "name": "stdout",
          "text": [
            "Input details:\n",
            "[{'name': 'serving_default_conv2d_input:0', 'index': 0, 'shape': array([  1, 150, 150,   3], dtype=int32), 'shape_signature': array([ -1, 150, 150,   3], dtype=int32), 'dtype': <class 'numpy.float32'>, 'quantization': (0.0, 0), 'quantization_parameters': {'scales': array([], dtype=float32), 'zero_points': array([], dtype=int32), 'quantized_dimension': 0}, 'sparsity_parameters': {}}]\n",
            "\n",
            "Output details:\n",
            "[{'name': 'StatefulPartitionedCall:0', 'index': 24, 'shape': array([1, 6], dtype=int32), 'shape_signature': array([-1,  6], dtype=int32), 'dtype': <class 'numpy.float32'>, 'quantization': (0.0, 0), 'quantization_parameters': {'scales': array([], dtype=float32), 'zero_points': array([], dtype=int32), 'quantized_dimension': 0}, 'sparsity_parameters': {}}]\n"
          ]
        }
      ]
    },
    {
      "cell_type": "code",
      "source": [
        "loaded_model = tf.keras.models.load_model('/content/drive/MyDrive/Capstone Project/saved_model')\n",
        "\n",
        "loaded_model.save('/content/drive/MyDrive/Capstone Project/saved_model/model.h5')"
      ],
      "metadata": {
        "colab": {
          "base_uri": "https://localhost:8080/"
        },
        "id": "yHRFWx5Xomco",
        "outputId": "3e059e34-452c-4a8a-e145-afb0ba5f4532"
      },
      "execution_count": 16,
      "outputs": [
        {
          "output_type": "stream",
          "name": "stderr",
          "text": [
            "/usr/local/lib/python3.10/dist-packages/keras/src/engine/training.py:3103: UserWarning: You are saving your model as an HDF5 file via `model.save()`. This file format is considered legacy. We recommend using instead the native Keras format, e.g. `model.save('my_model.keras')`.\n",
            "  saving_api.save_model(\n"
          ]
        }
      ]
    },
    {
      "cell_type": "code",
      "source": [
        "model = tf.keras.models.load_model('/content/drive/MyDrive/Capstone Project/saved_model/model.h5')\n",
        "converter = tf.lite.TFLiteConverter.from_keras_model(model)\n",
        "tflite_model = converter.convert()\n",
        "open(\"model.tflite\", \"wb\").write(tflite_model)"
      ],
      "metadata": {
        "colab": {
          "base_uri": "https://localhost:8080/"
        },
        "id": "wI6tPJRxoyQn",
        "outputId": "17d922c4-7013-47a2-df60-9ee9503f9903"
      },
      "execution_count": 17,
      "outputs": [
        {
          "output_type": "execute_result",
          "data": {
            "text/plain": [
              "19174428"
            ]
          },
          "metadata": {},
          "execution_count": 17
        }
      ]
    }
  ]
}